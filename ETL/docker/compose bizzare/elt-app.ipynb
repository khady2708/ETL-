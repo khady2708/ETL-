{
 "cells": [
  {
   "cell_type": "code",
   "execution_count": 1,
   "metadata": {},
   "outputs": [],
   "source": [
    "import pandas as pd\n",
    "import sqlite3\n",
    "from fuzzywuzzy import fuzz\n",
    "import requests\n",
    "from fuzzywuzzy import process"
   ]
  },
  {
   "cell_type": "code",
   "execution_count": 6,
   "metadata": {},
   "outputs": [],
   "source": [
    "ville = pd.read_csv('./data/villes_france_etl.csv')"
   ]
  },
  {
   "cell_type": "code",
   "execution_count": 7,
   "metadata": {},
   "outputs": [
    {
     "data": {
      "text/plain": [
       "0              ville du pont\n",
       "1             villers grelot\n",
       "2        villars les blamont\n",
       "3              les villedieu\n",
       "4              villers buzon\n",
       "                ...         \n",
       "39140                   thio\n",
       "39141                    voh\n",
       "39142                   yate\n",
       "39143                 sigave\n",
       "39144                   uvea\n",
       "Name: label, Length: 39145, dtype: object"
      ]
     },
     "execution_count": 7,
     "metadata": {},
     "output_type": "execute_result"
    }
   ],
   "source": [
    "poubelles= pd.read_csv('./data/point_apports_poubelles.csv')\n",
    "patterns = ville[\"label\"]\n",
    "patterns"
   ]
  }
 ],
 "metadata": {
  "kernelspec": {
   "display_name": "base",
   "language": "python",
   "name": "python3"
  },
  "language_info": {
   "codemirror_mode": {
    "name": "ipython",
    "version": 3
   },
   "file_extension": ".py",
   "mimetype": "text/x-python",
   "name": "python",
   "nbconvert_exporter": "python",
   "pygments_lexer": "ipython3",
   "version": "3.11.7"
  }
 },
 "nbformat": 4,
 "nbformat_minor": 2
}
